{
 "cells": [
  {
   "cell_type": "markdown",
   "metadata": {
    "id": "t9v1vX4-OGIT"
   },
   "source": [
    "# Problem set 2 (35 + 55 + 15 + 28 = 133 pts)"
   ]
  },
  {
   "cell_type": "markdown",
   "metadata": {
    "id": "FOMNJ4TcOGIV"
   },
   "source": [
    "## Problem 1 (LU decomposition) 35 pts\n"
   ]
  },
  {
   "cell_type": "markdown",
   "metadata": {
    "id": "pYHDl6ppOGIV"
   },
   "source": [
    "### 1. LU for band matrices (7 pts)\n",
    "\n",
    "The complexity to find an LU decomposition of a dense $n\\times n$ matrix is $\\mathcal{O}(n^3)$.\n",
    "Significant reduction in complexity can be achieved if the matrix has a certain structure, e.g. it is sparse. \n",
    "In the following task we consider an important example of $LU$ for a special type of sparse matrices –– band matrices with the bandwidth $m$ equal to 3 or 5 which called tridiagonal and pentadiagonal respectively.\n",
    "\n",
    "- (5 pts) Write a function ```band_lu(diag_broadcast, n)``` which computes LU decomposition for tridiagonal or pentadiagonal matrix with given diagonal values. \n",
    "For example, input parametres ```(diag_broadcast = [4,-2,1], n = 4)``` mean that we need to find LU decomposition for the triangular matrix of the form:\n",
    "\n",
    "$$A = \\begin{pmatrix}\n",
    "-2 & 1 & 0 & 0\\\\\n",
    "4 & -2 & 1 & 0 \\\\\n",
    "0 & 4 & -2 & 1 \\\\\n",
    "0 & 0 & 4 & -2 \\\\\n",
    "\\end{pmatrix}.$$\n",
    "\n",
    "As an output it is considered to make ```L``` and ```U``` - 2D arrays representing diagonals in factors $L$ (```L[0]``` keeps first lower diagonal, ```L[1]``` keeps second lower, ...), and $U$ (```U[:,0]``` keeps main diagonal, ```U[:,1]``` keeps first upper, ...).\n",
    "- (2 pts) Compare execution time of the band LU decomposition using standard function from ```scipy```, i.e. which takes the whole matrix and does not know about its special structure, and band decomposition of yours implementation. Comment on the results."
   ]
  },
  {
   "cell_type": "code",
   "execution_count": 94,
   "metadata": {},
   "outputs": [],
   "source": [
    "def create_matrix(diag_broadcast, n):\n",
    "    m = len(diag_broadcast)\n",
    "    # check the num of diagonals in matrix\n",
    "    assert m==3 or m==5\n",
    "    if (m==3):\n",
    "    #     get tridiagonal matrix\n",
    "        diagonals = [[diag_broadcast[0]]*(n-1), [diag_broadcast[1]]*n, [diag_broadcast[2]]*(n-1)]\n",
    "        A = diags(diagonals, [-1, 0, 1])\n",
    "    else:\n",
    "    #     get pentidiagonal matrix\n",
    "        diagonals = [[diag_broadcast[0]]*(n-2), [diag_broadcast[1]]*(n-1), [diag_broadcast[2]]*n, [diag_broadcast[3]]*(n-1), [diag_broadcast[4]]*(n-2)]\n",
    "        A = diags(diagonals, [-2, -1, 0, 1, 2])\n",
    "    return A"
   ]
  },
  {
   "cell_type": "code",
   "execution_count": 95,
   "metadata": {
    "id": "BvY7icWBOGIW"
   },
   "outputs": [],
   "source": [
    "# INPUT : diag_broadcast - list of diagonals value to broadcast,length equal to 3 or 5; n - integer, band matrix shape.\n",
    "# OUTPUT : L - 2D np.ndarray, L.shape[0] depends on bandwidth, L.shape[1] = n-1, do not store main diagonal, where all ones;                  add zeros to the right side of rows to handle with changing length of diagonals.\n",
    "#          U - 2D np.ndarray, U.shape[0] = n, U.shape[1] depends on bandwidth;\n",
    "#              add zeros to the bottom of columns to handle with changing length of diagonals.\n",
    "from scipy.sparse import diags \n",
    "import numpy as np\n",
    "\n",
    "def band_lu(diag_broadcast, n):\n",
    "    bandwidth  = len(diag_broadcast)\n",
    "    L = np.zeros(((bandwidth-1) // 2, n-1))\n",
    "    U = np.zeros((n, (bandwidth+1) // 2))\n",
    "    \n",
    "    # keep matrix in sparse format, or use function create_matrix().toarray() for dense format.\n",
    "    A = diags([0]*n)\n",
    "    A += create_matrix(diag_broadcast, n)\n",
    "    for k in range(n):\n",
    "        if k <= n-1:\n",
    "            for i in range(min(L.shape[0], n-k-1)):\n",
    "                assert A[k,k] != 0, 'Use pivoting algorithm for this matrix!'\n",
    "                L[i, k] = A[k+i+1, k] / A[k, k]\n",
    "                for j in range(k+1, n):\n",
    "                    A[k+i+1, j] -= L[i, k] * A[k, j]\n",
    "                    \n",
    "        for j in range(min(U.shape[1], n-k)):\n",
    "            U[k, j] = A[k, k+j]\n",
    "    return L, U"
   ]
  },
  {
   "cell_type": "code",
   "execution_count": 96,
   "metadata": {},
   "outputs": [
    {
     "name": "stdout",
     "output_type": "stream",
     "text": [
      "(5, 2) (1, 4)\n"
     ]
    },
    {
     "name": "stderr",
     "output_type": "stream",
     "text": [
      "D:\\conda\\lib\\site-packages\\scipy\\sparse\\_index.py:82: SparseEfficiencyWarning: Changing the sparsity structure of a csr_matrix is expensive. lil_matrix is more efficient.\n",
      "  self._set_intXint(row, col, x.flat[0])\n"
     ]
    }
   ],
   "source": [
    "diag_broadcast = [1, -2, 3]\n",
    "n=5\n",
    "L, U = band_lu(diag_broadcast, n)\n",
    "print(U.shape, L.shape)"
   ]
  },
  {
   "cell_type": "code",
   "execution_count": 97,
   "metadata": {},
   "outputs": [
    {
     "name": "stderr",
     "output_type": "stream",
     "text": [
      "100%|████████████████████████████████████████████████████████████████████████████████████| 5/5 [00:32<00:00,  6.47s/it]\n"
     ]
    }
   ],
   "source": [
    "from scipy.linalg import lu\n",
    "import time\n",
    "from tqdm import tqdm\n",
    "\n",
    "dim = [10,50,100,200, 300]\n",
    "\n",
    "time_lib = []\n",
    "time_impl = []\n",
    "\n",
    "diag_broadcast = [1, -2, 3]\n",
    "\n",
    "for i in tqdm(range(len(dim))):\n",
    "    start_time = time.time()\n",
    "    A = create_matrix(diag_broadcast, dim[i]).toarray()\n",
    "    L, U = lu(A, permute_l=True)\n",
    "    time_lib.append(time.time()-start_time)\n",
    "    \n",
    "    start_time = time.time()\n",
    "    L, U = band_lu(diag_broadcast = [1, -2, 3], n=dim[i])\n",
    "    time_impl.append(time.time()-start_time)  "
   ]
  },
  {
   "cell_type": "code",
   "execution_count": 98,
   "metadata": {},
   "outputs": [
    {
     "data": {
      "image/png": "[encoded data removed]",
      "text/plain": [
       "<Figure size 432x288 with 1 Axes>"
      ]
     },
     "metadata": {
      "needs_background": "light"
     },
     "output_type": "display_data"
    }
   ],
   "source": [
    "from matplotlib import pyplot as plt\n",
    "\n",
    "plt.title('Comparing of execution time implemented and library algorithm')\n",
    "plt.plot(dim, time_impl, label = 'implemented')\n",
    "plt.plot(dim, time_lib, label = 'library')\n",
    "plt.legend()\n",
    "plt.show()"
   ]
  },
  {
   "cell_type": "markdown",
   "metadata": {},
   "source": [
    "As we could see library algorithm is much more better, than implemented one, even if we works with sparse matrices."
   ]
  },
  {
   "cell_type": "markdown",
   "metadata": {
    "id": "_iM6NwHQOGId"
   },
   "source": [
    "### 2. Stability of LU (8 pts)\n",
    "\n",
    "Let\n",
    "$A = \\begin{pmatrix}\n",
    "\\varepsilon & 1 & 0\\\\\n",
    "1 & 1 & 1 \\\\\n",
    "0 & 1 & 1\n",
    "\\end{pmatrix}.$ \n",
    "* (5 pts) Find analytically LU decomposition with and without pivoting for the matrix $A$.\n",
    "\n",
    "$\\circ$ Without pivoting \n",
    "\n",
    "$\\begin{pmatrix}\n",
    "\\varepsilon & 1 & 0\\\\\n",
    "1 & 1 & 1 \\\\\n",
    "0 & 1 & 1\n",
    "\\end{pmatrix}  \\overset{R_{2}-=\\frac{1}{\\epsilon}R_{1}}{=} \\begin{pmatrix}\n",
    "\\varepsilon & 1 & 0\\\\\n",
    "0 & 1-\\frac{1}{\\epsilon} & 1\\\\\n",
    "0 & 1 & 1\n",
    "\\end{pmatrix} = \\overset{R_{3}-=\\frac{\\epsilon}{\\epsilon-1}R_{2}}{=} \\begin{pmatrix}\n",
    "\\varepsilon & 1 & 0\\\\\n",
    "0 & \\frac{\\epsilon - 1}{\\epsilon} & 1\\\\\n",
    "0 & 0 & -\\frac{1}{\\epsilon-1}\n",
    "\\end{pmatrix}$\n",
    "\n",
    "$U = \\begin{pmatrix}\n",
    "\\varepsilon & 1 & 0\\\\\n",
    "0 & \\frac{\\epsilon - 1}{\\epsilon} & 1\\\\\n",
    "0 & 0 & -\\frac{1}{\\epsilon-1}\n",
    "\\end{pmatrix}$ \n",
    "\n",
    "$L = \\begin{pmatrix}\n",
    "1 & 0 & 0\\\\\n",
    "\\frac{1}{\\epsilon} & 1 & 0\\\\\n",
    "0 & \\frac{\\epsilon}{\\epsilon-1} & 1\n",
    "\\end{pmatrix}$\n",
    "\n",
    "\n",
    "$\\circ$ With pivoting \n",
    "\n",
    "$\\begin{pmatrix}\n",
    "\\varepsilon & 1 & 0\\\\\n",
    "1 & 1 & 1 \\\\\n",
    "0 & 1 & 1\n",
    "\\end{pmatrix}  \\overset{R_{2}\\leftrightarrow R_{1}}{=} \\begin{pmatrix}\n",
    "1 & 1 & 1\\\\\n",
    "\\varepsilon & 1 & 0\\\\\n",
    "0 & 1 & 1\n",
    "\\end{pmatrix} \\overset{R_{2}-=\\epsilon R_{1}}{=} \\begin{pmatrix}\n",
    "1& 1 & 1\\\\\n",
    "0 & 1 -\\epsilon  & -\\epsilon\\\\\n",
    "0 & 1 & 1\n",
    "\\end{pmatrix}\\overset{R_{3}\\leftrightarrow R_{2}}{=} \\begin{pmatrix}\n",
    "1& 1 & 1\\\\\n",
    "0 & 1 & 1\\\\\n",
    "0 & 1 -\\epsilon  & -\\epsilon\n",
    "\\end{pmatrix}\\overset{R_{3}-=(1-\\epsilon) R_{2}}{=} \\begin{pmatrix}\n",
    "1& 1 & 1\\\\\n",
    "0 & 1 & 1\\\\\n",
    "0 & 0 & -1\n",
    "\\end{pmatrix}$\n",
    "\n",
    "$U = \\begin{pmatrix}\n",
    "1& 1 & 1\\\\\n",
    "0 & 1 & 1\\\\\n",
    "0 & 0 & -1\n",
    "\\end{pmatrix}$ \n",
    "\n",
    "$L = \\begin{pmatrix}\n",
    "1 & 0 & 0\\\\\n",
    "\\epsilon & 1 & 0\\\\\n",
    "0 & 1 - \\epsilon & 1\n",
    "\\end{pmatrix}$\n",
    "\n",
    "$P = \\begin{pmatrix}\n",
    "0 & 1 & 0\\\\\n",
    "0 & 0 & 1\\\\\n",
    "1 & 0 & 0\n",
    "\\end{pmatrix}$\n",
    "\n",
    "* (3 pts) Explain, why can the LU decomposition fail to approximate factors $L$ and $U$ for $|\\varepsilon|\\ll 1$ in computer arithmetic?\n",
    "\n",
    "Answer: Because for $\\epsilon\\ll 1: \\frac{1}{\\epsilon}\\rightarrow\\infty$ and it leads  to arithmetic overflow of computer and  loss in accuracy.\n"
   ]
  },
  {
   "cell_type": "markdown",
   "metadata": {
    "id": "EQwdRJSIOGIg"
   },
   "source": [
    "### 3. Block LU (10 pts)\n",
    "\n",
    "Let $A = \\begin{bmatrix} A_{11} & A_{12} \\\\ A_{21} & A_{22} \\end{bmatrix}$ be a block matrix. The goal is to solve the linear system\n",
    "\n",
    "$$\n",
    "     \\begin{bmatrix} A_{11} & A_{12} \\\\ A_{21} & A_{22} \\end{bmatrix} \\begin{bmatrix} u_1 \\\\ u_2 \\end{bmatrix} = \\begin{bmatrix} f_1 \\\\ f_2 \\end{bmatrix}.\n",
    "$$\n",
    "\n",
    "* (2 pts) Using block elimination find matrix $S$ and right-hand side $\\hat{f_2}$ so that $u_2$ can be found from $S u_2 = \\hat{f_2}$. Note that the matrix $S$ is called <font color='red'> Schur complement </font> of the block $A_{11}$.\n",
    "\n",
    "$\\square \\ \\ \\ $ $\\begin{equation*}\n",
    " \\begin{cases}\n",
    "   A_{11}u_{1}+A_{12}u_{2}=f_{1} |A_{21}A_{11}^{-1} \\\\\n",
    "   A_{21}u_{1}+A_{22}u_{2}=f_{2}\n",
    " \\end{cases}\n",
    "\\end{equation*} \\Leftrightarrow $\n",
    "\n",
    "$\\begin{equation*}\n",
    " \\begin{cases}\n",
    "   A_{21}u_{1}+A_{21}A_{11}^{-1}A_{12}u_{2}=A_{21}A_{11}^{-1}f_{1} \\\\\n",
    "   A_{21}u_{1}+A_{22}u_{2}=f_{2}\n",
    " \\end{cases}\n",
    "\\end{equation*} \\Leftrightarrow $\n",
    "\n",
    "Subtract from second equation first:\n",
    "\n",
    "$(A_{22}-A_{21}A_{11}^{-1}A_{12})u_{2}=f_{2}-A_{21}A_{11}^{-1}f_{1}$\n",
    "\n",
    "$Su_{2}=\\hat{f}$\n",
    "\n",
    "$S=A_{22}-A_{21}A_{11}^{-1}A_{12}$\n",
    "\n",
    "$\\hat{f}=f_{2}-A_{21}A_{11}^{-1}f_{1}$ $\\ \\ \\ \\blacksquare$\n",
    "\n",
    "\n",
    "\n",
    "* (4 pts) Using Schur complement properties prove that \n",
    "\n",
    "$$\\det(X+AB) = \\det(X)\\det(I+BX^{-1}A), $$\n",
    "\n",
    "where $X$ - nonsingular square matrix.\n",
    "\n",
    "\n",
    " $\\square $ Use Schur complement property: $A = \\begin{bmatrix} A_{11} & A_{12} \\\\ A_{21} & A_{22} \\end{bmatrix}$\n",
    "\n",
    "$\\det A = \\det A_{11}\\det S_{11}$, where $S_{11}=A_{22}-A_{21}A_{11}^{-1}A_{12}$ is Schur complement of the block $A_{11}$\n",
    "\n",
    "$ X+AB = \\begin{bmatrix} X+AB & A \\\\ 0 & I \\end{bmatrix}=\\begin{bmatrix} X & A \\\\ -B & I \\end{bmatrix}\\begin{bmatrix} I & 0 \\\\ B & I \\end{bmatrix}$\n",
    "\n",
    "$\\det\\begin{bmatrix} X+AB & A \\\\ 0 & I \\end{bmatrix}=\\det\\begin{bmatrix} X & A \\\\ -B & I \\end{bmatrix}\\det\\begin{bmatrix} I & 0 \\\\ B & I \\end{bmatrix}$\n",
    "\n",
    "$\\det\\begin{bmatrix} I & 0 \\\\ B & I \\end{bmatrix}=1$\n",
    "\n",
    "$\\det(X+AB)=\\det\\begin{bmatrix} X+AB & A \\\\ 0 & I \\end{bmatrix}=\\det\\begin{bmatrix} X & A \\\\ -B & I \\end{bmatrix}\\det\\begin{bmatrix} I & 0 \\\\ B & I \\end{bmatrix}=\\det\\begin{bmatrix} X & A \\\\ -B & I \\end{bmatrix} = \\det(X)\\det(I+BX^{-1}A)$\n",
    "\n",
    "\n",
    "\n",
    "$\\blacksquare$\n",
    "\n",
    "* (4 pts) Let matrix $F \\in \\mathbb{R}^{m \\times n}$ and $G \\in \\mathbb{R}^{n \\times m}$. Prove that \n",
    "\n",
    "$$\\det(I_m - FG) = \\det(I_n - GF).$$\n",
    "\n",
    "$\\square \\ \\ \\ \\begin{bmatrix} I & F \\\\ G & I \\end{bmatrix} =\\begin{bmatrix} I & 0 \\\\ G & I \\end{bmatrix}\\begin{bmatrix} I & 0 \\\\ 0 & I-GF \\end{bmatrix}\\begin{bmatrix} I & F \\\\ 0 & I \\end{bmatrix}=\\begin{bmatrix} I & F \\\\ 0 & I \\end{bmatrix}\\begin{bmatrix} I-FG& 0 \\\\ 0 & I \\end{bmatrix}\\begin{bmatrix} I & 0 \\\\ G & I \\end{bmatrix}  $ \n",
    "\n",
    "From here you can see that $det(I-FG)=det(I-GF) \\ \\ \\ \\blacksquare$"
   ]
  },
  {
   "cell_type": "markdown",
   "metadata": {
    "id": "YFc3BR_TOGIj"
   },
   "source": [
    "### 4. Efficient implementation of LU decomposition (10 pts)\n",
    "\n",
    "In the lecture we provide naive implementation of LU factorization with loops and elementwise update of factors. In this subproblem we ask you to provide more efficient implementation of LU factorization and explain how you derive this implementation (main ideas and how you use them in this particular case). \n",
    "- (1 pts) Main idea for speed up computation of LU factorization (without using built-in function!) \n",
    "- (4 pts) Implement the presented approach to speed up LU \n",
    "- (1 pts) Illustrate numerically that your implementation is correct\n",
    "- (2 pts) Provide the comparison of running time of naive implementation from the lecture, your implementation and NumPy built-in function for range of matrix dimensions. We expect you plot the running time vs matrix dimension for these implementations. So you should get the plot with three lines.\n",
    "- (2 pts) Discuss the obtained results and explain what other tricks are possible to accelerate computing the LU factorization. \n",
    "\n",
    "NumPy or JAX are both ok in this subproblem, but please use the single library for all implementations. "
   ]
  },
  {
   "cell_type": "markdown",
   "metadata": {},
   "source": [
    "To speed up computation of LU factorization we could compute matrices L and U with the help of non Gaussian elimination approach. Try to use Doolittle Algorithm and compare it with implemented on lecture."
   ]
  },
  {
   "cell_type": "code",
   "execution_count": 99,
   "metadata": {},
   "outputs": [],
   "source": [
    "import numpy as np\n",
    "# Doolittle Algorithm : LU Decomposition\n",
    "def luDecomposition(mat, n):\n",
    "    lower = [[0 for x in range(n)]\n",
    "             for y in range(n)]\n",
    "    upper = [[0 for x in range(n)]\n",
    "             for y in range(n)]\n",
    "    # Decomposing matrix into Upper\n",
    "    # and Lower triangular matrix\n",
    "    for i in range(n):\n",
    "        # Upper Triangular\n",
    "        for k in range(i, n):\n",
    "            # Summation of L(i, j) * U(j, k)\n",
    "            sum = 0\n",
    "            for j in range(i):\n",
    "                sum += (lower[i][j] * upper[j][k])\n",
    "            # Evaluating U(i, k)\n",
    "            upper[i][k] = mat[i][k] - sum\n",
    "        # Lower Triangular\n",
    "        for k in range(i, n):\n",
    "            if (i == k):\n",
    "                lower[i][i] = 1  # Diagonal as 1\n",
    "            else:\n",
    "                # Summation of L(k, j) * U(j, i)\n",
    "                sum = 0\n",
    "                for j in range(i):\n",
    "                    sum += (lower[k][j] * upper[j][i])\n",
    "                # Evaluating L(k, i)\n",
    "                lower[k][i] = int((mat[k][i] - sum) / upper[i][i])\n",
    "    return lower, upper\n",
    "    \n",
    "# Algorithm from lecture\n",
    "def lecture_lu(A):\n",
    "    n = A.shape[0]\n",
    "    L = np.zeros((n, n))\n",
    "    U = np.zeros((n, n))\n",
    "    for k in range(n):   \n",
    "        L[k, k] =  1\n",
    "        for i in range(k+1, n):\n",
    "            L[i, k] =  A[i, k] / A[k, k]\n",
    "            for j in range(k+1, n):\n",
    "                A[i,j] = A[i, j] - L[i, k] * A[k, j]\n",
    "        for j in range(k, n):\n",
    "            U[k, j] =  A[k, j]\n",
    "    return L, U"
   ]
  },
  {
   "cell_type": "code",
   "execution_count": 100,
   "metadata": {},
   "outputs": [
    {
     "name": "stderr",
     "output_type": "stream",
     "text": [
      "100%|████████████████████████████████████████████████████████████████████████████████████| 8/8 [04:32<00:00, 34.06s/it]\n"
     ]
    }
   ],
   "source": [
    "from scipy.linalg import lu\n",
    "import time\n",
    "from tqdm import tqdm\n",
    "\n",
    "lecture_time = [] #time for lecture algorithm implementation\n",
    "impl_time = [] #time for implemented algorithm\n",
    "library_time = [] #time for library implementation\n",
    "\n",
    "for i in tqdm(range(10, 800, 100)):\n",
    "    A =  np.random.random((i, i)).tolist()\n",
    "    start_time = time.time()\n",
    "    L, U = luDecomposition(A, len(A))\n",
    "    impl_time.append(time.time()-start_time)\n",
    "    start_time = time.time()\n",
    "    L, U = lecture_lu(np.array(A))\n",
    "    lecture_time.append(time.time()-start_time)\n",
    "    start_time = time.time()\n",
    "    _, L, U = lu(A)\n",
    "    library_time.append(time.time()-start_time)"
   ]
  },
  {
   "cell_type": "code",
   "execution_count": 101,
   "metadata": {},
   "outputs": [
    {
     "data": {
      "image/png": "[encoded data removed]",
      "text/plain": [
       "<Figure size 432x288 with 1 Axes>"
      ]
     },
     "metadata": {
      "needs_background": "light"
     },
     "output_type": "display_data"
    }
   ],
   "source": [
    "from matplotlib import pyplot as plt\n",
    "dim_list = [i for i in range(10, 800, 100)]\n",
    "\n",
    "\n",
    "plt.plot(dim_list, impl_time, label = 'implemented')\n",
    "plt.plot(dim_list, lecture_time, label = 'from lecture')\n",
    "plt.plot(dim_list, library_time, label = 'library')\n",
    "plt.ylabel('running time')\n",
    "plt.xlabel('dimension')\n",
    "plt.legend()\n",
    "plt.show()"
   ]
  },
  {
   "cell_type": "markdown",
   "metadata": {},
   "source": [
    "As we can see implemented Doolittle Algorithm works better, than naive, but not as good, as library algorithm.\n",
    "\n",
    "Main idea of speed up computation of LU factorization includes block implementation. Because its easy to multiply and if they fits into cash it speeds up computation very well. So we need divide matrix into blocks, so their size fits into cash and also we could parallelize computations. It could be used for future improvement of Doolittle Algorithm."
   ]
  },
  {
   "cell_type": "markdown",
   "metadata": {
    "id": "8DaPAmZPOGIm"
   },
   "source": [
    "## Problem 2 (eigenvalues)  55 pts\n",
    "\n",
    "### 1. Theoretical tasks (10 pts)\n",
    "\n",
    "* (5 pts) Prove that normal matrix is Hermitian iff its eigenvalues are real.\n",
    "\n",
    "\n",
    "$\\square$ $\\circ$ As Hermitian matrix is normal then prove that for Hermitian matrix all eigenvalues satisfy are real.\n",
    "\n",
    "\n",
    " Take eigenvalue $\\lambda$ and corresponding to its eigenvector $\\vec{v}\\neq 0$.\n",
    "\n",
    "So $H\\vec{v}=\\lambda\\vec{v}$. Then:\n",
    "\n",
    "$\\lambda <\\vec{v}, \\vec{v}> = <\\lambda \\vec{v}, \\vec{v}> = <H\\vec{v}, \\vec{v}> = <\\vec{v}, H^{*}\\vec{v}> =  <\\vec{v}, H\\vec{v}> = <\\vec{v}, \\lambda\\vec{v}> = \\overline{\\lambda}<\\vec{v}, \\vec{v}>.$\n",
    "\n",
    "As $\\vec{v}\\neq 0 \\rightarrow <\\vec{v}, \\vec{v}> \\neq 0 \\Rightarrow $ divide and get $\\lambda = \\overline{\\lambda}\\Rightarrow \\lambda$ is real. \n",
    "\n",
    "As $\\lambda$ is arbitrary eigenvalue, then all eigenvalues of Hermitian matrix are real. That means that normal matrix also should have real eigenvalues to be Hermitian matrix. \n",
    "\n",
    "\n",
    "\n",
    "$\\circ$ Now prove that each normal matrix with real eigenvalues is Hermitian.\n",
    "\n",
    "A - normal matrix $\\Rightarrow A^{*}A=AA^{*}$. Using spectral decomposition for normal matrix A we could write that $A = VDV^{-1}=VDV^{*}$, where V is unitary matrix and D is diagonal matrix with real eigenvalues. So $D=D^{*}\\Rightarrow A^{*} = (VDV^{*})^{*} = VD^{*}V^{*} = VDV^{*}=A\\Rightarrow$ A is Hermitian matrix. $ \\ \\ \\ \\blacksquare$\n",
    "\n",
    "\n",
    "\n",
    "\n",
    "* Prove that normal matrix is unitary iff its eigenvalues satisfy $|\\lambda| = 1$. \n",
    "\n",
    "\n",
    "\n",
    "$\\square$\n",
    "\n",
    "\n",
    "$\\circ$ As unitary matrix is normal then we need to prove that for unitary matrix all eigenvalues satisfy $|\\lambda| = 1$.\n",
    "\n",
    "\n",
    "$\\begin{equation*}\n",
    " \\begin{cases}\n",
    "   Ax=\\lambda x \\ \\ (1) &\\\\\n",
    "   x^{*}A^{*}=\\lambda x^{*} \\ \\ (2)\n",
    " \\end{cases}\n",
    "\\end{equation*}$ \n",
    "\n",
    "\n",
    "1) Multiply (1) on $A^{*}$ from left:\n",
    "\n",
    "$\\begin{equation*}\n",
    " \\begin{cases}\n",
    "   x=\\lambda A^{*}x \\ \\ (1') &\\\\\n",
    "   x^{*}A^{*}=\\lambda x^{*} \\ \\ (2') \n",
    " \\end{cases}\n",
    "\\end{equation*}$ \n",
    "\n",
    "2) Multiply (1') on $x^{*}$ from left and use (2'):\n",
    "\n",
    "$\\begin{equation*}\n",
    " \\begin{cases}\n",
    "   \\|x\\|^{2}=\\lambda \\lambda^{*}\\|x\\|^{2} \\ \\ (1'')&\\\\\n",
    "   x^{*}A^{*}=\\lambda x^{*} \\ \\ (2'')\n",
    " \\end{cases}\n",
    "\\end{equation*}$ \n",
    "\n",
    "\n",
    "3) From (1''): $\\ \\ \\ \\mid \\lambda \\mid = 1 $\n",
    "\n",
    "\n",
    "$\\circ$ Prove that each normal matrix with $|\\lambda| = 1$ is unitary.\n",
    "\n",
    "A - normal matrix $\\Rightarrow A^{*}A=AA^{*}$. Using spectral decomposition for normal matrix A we could write that $A = VDV^{-1}=VDV^{*}$, where V is unitary matrix and D is I matrix. So $A=VV^{*}, A^{*}=VV^{*}, AA^{*}=A^{*}A=VV^{*}VV^{*}=I$ $\\Rightarrow$ A is unitary matrix. $ \\ \\ \\ \\blacksquare$\n",
    "\n",
    "\n",
    "* (5 pts) The following problem illustrates instability of the Jordan form. Find theoretically the eigenvalues of the perturbed Jordan block:\n",
    "\n",
    "$$\n",
    "    J(\\varepsilon) = \n",
    "    \\begin{bmatrix} \n",
    "     \\lambda & 1 & & & 0 \\\\ \n",
    "     & \\lambda & 1 & & \\\\ \n",
    "     &  & \\ddots & \\ddots & \\\\ \n",
    "     & & & \\lambda & 1 \\\\ \n",
    "     \\varepsilon & & & & \\lambda  \\\\ \n",
    "    \\end{bmatrix}_{n\\times n}\n",
    "$$\n",
    "\n",
    "Comment how eigenvalues of $J(0)$ are perturbed for large $n$.\n",
    "\n",
    "\n",
    "$\\square \\ \\ \\ \n",
    "    J(0) = \n",
    "    \\begin{bmatrix} \n",
    "     \\lambda & 1 & & & 0 \\\\ \n",
    "     & \\lambda & 1 & & \\\\ \n",
    "     &  & \\ddots & \\ddots & \\\\ \n",
    "     & & & \\lambda & 1 \\\\ \n",
    "     0 & & & & \\lambda  \\\\ \n",
    "    \\end{bmatrix}_{n\\times n}\n",
    "$\n",
    "\n",
    "\n",
    "Find eigenvalues of $J(\\varepsilon)$:\n",
    "\n",
    "Denote $J^{n}(\\varepsilon)$ as nxn matrix $J(\\varepsilon).$\n",
    " \n",
    "$det(J^{n}(\\varepsilon)-\\mu I) = (\\lambda-\\mu)det(J^{n-1}(0)-\\mu I) + (-1)^{n+1}\\varepsilon =  (\\lambda-\\mu)^{n}+(-1)^{n+1}\\varepsilon = 0$\n",
    "\n",
    " $(\\lambda-\\mu)^{n} = \\pm \\varepsilon$\n",
    " \n",
    " $\\mu = \\lambda\\pm \\varepsilon^{\\frac{1}{n}}$\n",
    "\n",
    "So because of perturbation, the mistake is equal to $|\\varepsilon^{\\frac{1}{n}}|\\rightarrow 1$ for $n\\rightarrow \\infty \\  \\  \\blacksquare$"
   ]
  },
  {
   "cell_type": "markdown",
   "metadata": {
    "id": "xWcyqKyrOGIp"
   },
   "source": [
    "### 2. PageRank (35 pts)\n",
    "\n",
    "\n",
    "#### Damping factor importance\n",
    "\n",
    "* (5 pts) Write the function ```pagerank_matrix(G)``` that takes an adjacency matrix $G$ (in both sparse and dense formats) as an input and outputs the corresponding PageRank matrix $A$."
   ]
  },
  {
   "cell_type": "code",
   "execution_count": 1,
   "metadata": {},
   "outputs": [],
   "source": [
    "# INPUT:  G - np.ndarray or sparse matrix\n",
    "# OUTPUT: A - np.ndarray (of size G.shape) or sparse matrix\n",
    "def pagerank_matrix(G):\n",
    "#     put G in csr format\n",
    "    if scipy.sparse.issparse(G)==False:\n",
    "        G = np.array(G, dtype=np.float32)\n",
    "        G = csr_matrix(G)\n",
    "    col_sum = np.sum(G, axis=0)\n",
    "    idx = np.argwhere(col_sum == 0)\n",
    "    if len(idx):\n",
    "        for i in idx[:, 1]:\n",
    "            col_sum[0, i] = 1.0\n",
    "    col_sum = 1.0 / col_sum\n",
    "    A = G@diags(np.array(col_sum)[0])\n",
    "    return A"
   ]
  },
  {
   "cell_type": "code",
   "execution_count": 2,
   "metadata": {},
   "outputs": [],
   "source": [
    "import scipy\n",
    "from scipy.sparse import csr_matrix\n",
    "import numpy as np\n",
    "from scipy.sparse import diags\n",
    "from tqdm import tqdm\n",
    "\n",
    "# str are links to each vertex\n",
    "G = np.array([\n",
    "    [0,0,1,0,0], \n",
    "    [1,0,1,0,0], \n",
    "    [0,1,0,0,0], \n",
    "    [0,0,0,0,1], \n",
    "    [0,0,0,1,0]  \n",
    "])"
   ]
  },
  {
   "cell_type": "code",
   "execution_count": 3,
   "metadata": {},
   "outputs": [],
   "source": [
    "A = pagerank_matrix(G)"
   ]
  },
  {
   "cell_type": "code",
   "execution_count": 4,
   "metadata": {},
   "outputs": [
    {
     "name": "stdout",
     "output_type": "stream",
     "text": [
      "Sparse PageRank matrix: \n",
      " [[0.  0.  0.5 0.  0. ]\n",
      " [1.  0.  0.5 0.  0. ]\n",
      " [0.  1.  0.  0.  0. ]\n",
      " [0.  0.  0.  0.  1. ]\n",
      " [0.  0.  0.  1.  0. ]]\n"
     ]
    }
   ],
   "source": [
    "print(f\"Sparse PageRank matrix: \\n\", A.toarray())"
   ]
  },
  {
   "cell_type": "code",
   "execution_count": 5,
   "metadata": {},
   "outputs": [],
   "source": [
    "# Check column sum\n",
    "for i in range(A.toarray().shape[0]):\n",
    "    assert A.toarray()[:,i].sum()==1, \"Sum of column is not equal to 1\""
   ]
  },
  {
   "cell_type": "code",
   "execution_count": 6,
   "metadata": {},
   "outputs": [
    {
     "data": {
      "text/plain": [
       "array([[0. , 0. , 0.5, 0. , 0. ],\n",
       "       [1. , 0. , 0.5, 0. , 0. ],\n",
       "       [0. , 1. , 0. , 0. , 0. ],\n",
       "       [0. , 0. , 0. , 0. , 1. ],\n",
       "       [0. , 0. , 0. , 1. , 0. ]], dtype=float32)"
      ]
     },
     "execution_count": 6,
     "metadata": {},
     "output_type": "execute_result"
    }
   ],
   "source": [
    "A.toarray()"
   ]
  },
  {
   "cell_type": "code",
   "execution_count": 7,
   "metadata": {},
   "outputs": [
    {
     "name": "stdout",
     "output_type": "stream",
     "text": [
      "max eigenvalue is 1.0\n",
      "max multiplicity: 2\n"
     ]
    }
   ],
   "source": [
    "print('max eigenvalue is', np.linalg.eig(A.toarray())[0].max().real)\n",
    "\n",
    "print('max multiplicity:', list(np.linalg.eig(A.toarray())[0]).count(1))"
   ]
  },
  {
   "cell_type": "markdown",
   "metadata": {
    "id": "BtVmgGnYOGIs"
   },
   "source": [
    "* (3 pts) Find PageRank matrix $A$ that corresponds to the following graph: <img src=\"graph.png\" width='250'>\n",
    "What is its largest eigenvalue? What multiplicity does it have?\n",
    "\n",
    "\n",
    "* (5 pts) Implement the power method for a given matrix $A$, an initial guess $x_0$ and a number of iterations ```num_iter```. It should be organized as a function ```power_method(A, x0, num_iter)``` that outputs approximation to eigenvector $x$, eigenvalue $\\lambda$ and history of residuals $\\{\\|Ax_k - \\lambda_k x_k\\|_2\\}$. Make sure that the method converges to the correct solution on a matrix $\\begin{bmatrix} 2 & -1 \\\\ -1 & 2 \\end{bmatrix}$ which is known to have the largest eigenvalue equal to $3$."
   ]
  },
  {
   "cell_type": "code",
   "execution_count": 8,
   "metadata": {
    "id": "uLo7A--rOGIs"
   },
   "outputs": [],
   "source": [
    "# INPUT:  A - np.ndarray (2D), x0 - np.ndarray (1D), num_iter - integer (positive)\n",
    "# # OUTPUT: x - np.ndarray (of size x0), l - float, res - np.ndarray (of size num_iter + 1 [include initial guess])\n",
    "def power_method(A, x0, num_iter): # 5 pts\n",
    "    res = np.zeros(num_iter + 1)\n",
    "    x_k = x0\n",
    "    for j in tqdm(range(num_iter)):\n",
    "        res[j] = np.linalg.norm(A.dot(x_k) - x_k * (A.dot(x_k).T.dot(x_k)), 2) #add residuals on each step\n",
    "        x_k = A.dot(x_k) #calculate matrix by vector product\n",
    "        x_k_norm = np.linalg.norm(x_k, 2) # calculate the norm\n",
    "        x_k = x_k / x_k_norm  # normalize the vector\n",
    "    x = x_k\n",
    "    l = A.dot(x_k).T.dot(x_k)\n",
    "    return x, l, res"
   ]
  },
  {
   "cell_type": "code",
   "execution_count": 9,
   "metadata": {},
   "outputs": [
    {
     "name": "stderr",
     "output_type": "stream",
     "text": [
      "100%|█████████████████████████████████████████████████████████████████████████████| 100/100 [00:00<00:00, 19915.03it/s]"
     ]
    },
    {
     "name": "stdout",
     "output_type": "stream",
     "text": [
      "max eigenvalue is equal to  3.0\n"
     ]
    },
    {
     "name": "stderr",
     "output_type": "stream",
     "text": [
      "\n"
     ]
    }
   ],
   "source": [
    "A = np.array([\n",
    "    [2, -1],\n",
    "    [-1, 2]])\n",
    "\n",
    "x, l, res = power_method(A, np.random.rand(2), 100)\n",
    "print('max eigenvalue is equal to ', l)"
   ]
  },
  {
   "cell_type": "code",
   "execution_count": 10,
   "metadata": {},
   "outputs": [
    {
     "data": {
      "image/png": "[encoded data removed]",
      "text/plain": [
       "<Figure size 432x288 with 1 Axes>"
      ]
     },
     "metadata": {
      "needs_background": "light"
     },
     "output_type": "display_data"
    }
   ],
   "source": [
    "from matplotlib import pyplot as plt\n",
    "\n",
    "def plot_residual(res):\n",
    "    plt.title('convergence of residuals')\n",
    "    plt.plot(np.log(res+1e-7))\n",
    "    plt.grid()\n",
    "    plt.xlabel('iteration')\n",
    "    plt.ylabel('log(residual)')\n",
    "    plt.show()\n",
    "\n",
    "res = plot_residual(res)"
   ]
  },
  {
   "cell_type": "markdown",
   "metadata": {
    "id": "9hAowO6zOGIu"
   },
   "source": [
    "* (2 pts) Run the power method for the graph presented above and plot residuals $\\|Ax_k - \\lambda_k x_k\\|_2$ as a function of $k$ for ```num_iter=100``` and random initial guess ```x0```.  Explain the absence of convergence. \n",
    "\n",
    "\n",
    "* (2 pts) Consider the same graph, but with additional self loop at node 4 (self loop is an edge that connects a vertex with itself). Plot residuals as in the previous task and discuss the convergence. Now, run the power method with ```num_iter=100``` for 10 different initial guesses and print/plot the resulting approximated eigenvectors. Why do they depend on the initial guess?\n",
    "\n",
    "\n",
    "In order to avoid this problem Larry Page and Sergey Brin [proposed](http://ilpubs.stanford.edu:8090/422/1/1999-66.pdf) to use the following regularization technique:\n",
    "\n",
    "$$\n",
    "A_d = dA + \\frac{1-d}{N} \\begin{pmatrix} 1 & \\dots & 1 \\\\ \\vdots & & \\vdots \\\\ 1 & \\dots & 1 \\end{pmatrix},\n",
    "$$\n",
    "\n",
    "where $d$ is a small parameter in $[0,1]$ (typically $d=0.85$), which is called **damping factor**, $A$ is of size $N\\times N$. Now $A_d$ is the matrix with multiplicity of the largest eigenvalue equal to 1. \n",
    "Recall that computing the eigenvector of the PageRank matrix, which corresponds to the largest eigenvalue, has the following interpretation. Consider a person who stays in a random node of a graph (i.e. opens a random web page); at each step s/he follows one of the outcoming edges uniformly at random (i.e. opens one of the links). So the person randomly walks through the graph and the eigenvector we are looking for is exactly his/her stationary distribution â€” for each node it tells you the probability of visiting this particular node. Therefore, if the person has started from a part of the graph which is not connected with the other part, he will never get there.  In the regularized model, the person at each step follows one of the outcoming links with probability $d$ OR teleports to a random node from the whole graph with probability $(1-d)$.\n",
    "\n",
    "* (2 pts) Now, run the power method with $A_d$ and plot residuals $\\|A_d x_k - \\lambda_k x_k\\|_2$ as a function of $k$ for $d=0.97$, ```num_iter=100``` and a random initial guess ```x0```.\n",
    "\n",
    "* (5 pts) Find the second largest in the absolute value eigenvalue of the obtained matrix $A_d$. How and why is it connected to the damping factor $d$? What is the convergence rate of the PageRank algorithm when using damping factor?\n",
    "\n",
    "Usually, graphs that arise in various areas are sparse (social, web, road networks, etc.) and, thus, computation of a matrix-vector product for corresponding PageRank matrix $A$ is much cheaper than $\\mathcal{O}(N^2)$. However, if $A_d$ is calculated directly, it becomes dense and, therefore, $\\mathcal{O}(N^2)$ cost grows prohibitively large for  big $N$.\n",
    "\n",
    "\n",
    "* (2 pts) Implement fast matrix-vector product for $A_d$ as a function ```pagerank_matvec(A, d, x)```, which takes a PageRank matrix $A$ (in sparse format, e.g., ```csr_matrix```), damping factor $d$ and a vector $x$ as an input and returns $A_dx$ as an output. \n",
    "\n",
    "* (1 pts) Generate a random adjacency matrix of size $10000 \\times 10000$ with only 100 non-zero elements and compare ```pagerank_matvec``` performance with direct evaluation of $A_dx$."
   ]
  },
  {
   "cell_type": "code",
   "execution_count": 11,
   "metadata": {},
   "outputs": [
    {
     "name": "stderr",
     "output_type": "stream",
     "text": [
      "100%|█████████████████████████████████████████████████████████████████████████████| 100/100 [00:00<00:00, 33075.50it/s]\n"
     ]
    },
    {
     "data": {
      "image/png": "[encoded data removed]",
      "text/plain": [
       "<Figure size 432x288 with 1 Axes>"
      ]
     },
     "metadata": {
      "needs_background": "light"
     },
     "output_type": "display_data"
    },
    {
     "name": "stdout",
     "output_type": "stream",
     "text": [
      "final residual value is:  0.0\n"
     ]
    }
   ],
   "source": [
    "G = np.array([\n",
    "    [0,0,1,0,0], \n",
    "    [1,0,1,0,0], \n",
    "    [0,1,0,0,0], \n",
    "    [0,0,0,0,1], \n",
    "    [0,0,0,1,0]  \n",
    "])\n",
    "\n",
    "A = pagerank_matrix(G).toarray()\n",
    "\n",
    "x0 =  5*np.random.rand(A.shape[0])-2\n",
    "x0 /= np.sqrt(x0@x0)\n",
    "\n",
    "x, l, res = power_method(G, x0, 100)\n",
    "plot_residual(res)\n",
    "print('final residual value is: ', res[-1])"
   ]
  },
  {
   "cell_type": "markdown",
   "metadata": {},
   "source": [
    "Maybe in some cases it could have problems with convergence because of graph separability. We haven't path from cycle nodes 3 and 4 to another part of the graph."
   ]
  },
  {
   "cell_type": "code",
   "execution_count": 12,
   "metadata": {},
   "outputs": [
    {
     "name": "stderr",
     "output_type": "stream",
     "text": [
      "100%|█████████████████████████████████████████████████████████████████████████████| 100/100 [00:00<00:00, 33399.46it/s]\n"
     ]
    },
    {
     "data": {
      "image/png": "[encoded data removed]",
      "text/plain": [
       "<Figure size 432x288 with 1 Axes>"
      ]
     },
     "metadata": {
      "needs_background": "light"
     },
     "output_type": "display_data"
    },
    {
     "name": "stdout",
     "output_type": "stream",
     "text": [
      "final residual value is:  0.0\n"
     ]
    }
   ],
   "source": [
    "# Сonsider the same graph, but with additional self loop at node 4.\n",
    "G = np.array([\n",
    "    [0,1,0,0,0],\n",
    "    [0,0,1,0,0],\n",
    "    [1,1,0,0,0],\n",
    "    [0,0,0,0,1],\n",
    "    [0,0,0,1,1]\n",
    "])\n",
    "\n",
    "A = pagerank_matrix(G).toarray()\n",
    "\n",
    "\n",
    "x0 =  5*np.random.rand(A.shape[0])-2\n",
    "x0 /= np.sqrt(x0@x0)\n",
    "\n",
    "\n",
    "x, l, res = power_method(A, x0, 100)\n",
    "plot_residual(res)\n",
    "print('final residual value is: ', res[-1])"
   ]
  },
  {
   "cell_type": "markdown",
   "metadata": {},
   "source": [
    "First two eigenvectors could be the same. In this case power iteration method will give a vector equal to linear combination of corresponding eigenvectors. If the signs are the same, algorithm will converge, otherwise - not converge. This additional loop will change the sign of one of the largest eigenvalues, thats why algorithm converge."
   ]
  },
  {
   "cell_type": "code",
   "execution_count": 13,
   "metadata": {},
   "outputs": [
    {
     "name": "stderr",
     "output_type": "stream",
     "text": [
      "100%|█████████████████████████████████████████████████████████████████████████████| 100/100 [00:00<00:00, 33138.22it/s]\n",
      "100%|█████████████████████████████████████████████████████████████████████████████| 100/100 [00:00<00:00, 50195.12it/s]\n",
      "100%|█████████████████████████████████████████████████████████████████████████████| 100/100 [00:00<00:00, 33057.25it/s]\n",
      "100%|█████████████████████████████████████████████████████████████████████████████| 100/100 [00:00<00:00, 50123.14it/s]\n",
      "100%|█████████████████████████████████████████████████████████████████████████████| 100/100 [00:00<00:00, 49327.34it/s]\n",
      "100%|█████████████████████████████████████████████████████████████████████████████| 100/100 [00:00<00:00, 50123.14it/s]\n",
      "100%|█████████████████████████████████████████████████████████████████████████████| 100/100 [00:00<00:00, 33428.74it/s]\n",
      "100%|█████████████████████████████████████████████████████████████████████████████| 100/100 [00:00<00:00, 50141.11it/s]\n",
      "100%|█████████████████████████████████████████████████████████████████████████████| 100/100 [00:00<00:00, 50111.16it/s]\n",
      "100%|█████████████████████████████████████████████████████████████████████████████| 100/100 [00:00<00:00, 49228.92it/s]"
     ]
    },
    {
     "name": "stdout",
     "output_type": "stream",
     "text": [
      "0: eigenvalue:\t 1.0, eigvector: [-0.2567, -0.5134, -0.5134, -0.2852, -0.5705]\n",
      "1: eigenvalue:\t 1.0, eigvector: [-0.2172, -0.4343, -0.4343, -0.3393, -0.6786]\n",
      "2: eigenvalue:\t 1.0, eigvector: [0.3243, 0.6486, 0.6486, 0.1034, 0.2068]\n",
      "3: eigenvalue:\t 1.0, eigvector: [0.3326, 0.6652, 0.6652, 0.03003, 0.06007]\n",
      "4: eigenvalue:\t 1.0, eigvector: [-0.2203, -0.4406, -0.4406, -0.3356, -0.6712]\n",
      "5: eigenvalue:\t 1.0, eigvector: [-0.06233, -0.1247, -0.1247, 0.4393, 0.8787]\n",
      "6: eigenvalue:\t 1.0, eigvector: [0.2752, 0.5503, 0.5503, 0.2524, 0.5048]\n",
      "7: eigenvalue:\t 1.0, eigvector: [0.3332, 0.6663, 0.6663, -0.01438, -0.02876]\n",
      "8: eigenvalue:\t 1.0, eigvector: [0.1913, 0.3826, 0.3826, 0.3662, 0.7325]\n",
      "9: eigenvalue:\t 1.0, eigvector: [0.2836, 0.5673, 0.5673, 0.2349, 0.4698]\n"
     ]
    },
    {
     "name": "stderr",
     "output_type": "stream",
     "text": [
      "\n"
     ]
    }
   ],
   "source": [
    "# Launch power method for matrix G several times\n",
    "for i in range(10): \n",
    "    \n",
    "    x0 =  i*np.random.rand(A.shape[0])-2\n",
    "    x0 /= np.sqrt(x0@x0)\n",
    "\n",
    "    x, l, res = power_method(A, i*np.random.rand(5)-1, 100)\n",
    "    print('{}: eigenvalue:\\t {:.4}, eigvector: [{:.4}, {:.4}, {:.4}, {:.4}, {:.4}]'.format(i, l, *x))"
   ]
  },
  {
   "cell_type": "markdown",
   "metadata": {},
   "source": [
    "They depend on initial guesses because the multiplicity of maximal eigenvalue is greater than 1. That mean that dimensionality of subspace, which consists of eigenvectors,  is more then 1"
   ]
  },
  {
   "cell_type": "code",
   "execution_count": 14,
   "metadata": {},
   "outputs": [
    {
     "name": "stderr",
     "output_type": "stream",
     "text": [
      "100%|█████████████████████████████████████████████████████████████████████████████| 100/100 [00:00<00:00, 25114.09it/s]\n"
     ]
    },
    {
     "data": {
      "image/png": "[encoded data removed]",
      "text/plain": [
       "<Figure size 432x288 with 1 Axes>"
      ]
     },
     "metadata": {
      "needs_background": "light"
     },
     "output_type": "display_data"
    }
   ],
   "source": [
    "# Create A_d matrix\n",
    "A = pagerank_matrix(G).toarray()\n",
    "d = 0.97 #damping factor\n",
    "A_d = d * A + (1-d) / A.shape[0] * np.ones_like(A)\n",
    "\n",
    "x0 = 2*np.random.rand(A_d.shape[0])-1\n",
    "x0 /= np.sqrt(x0@x0)\n",
    "\n",
    "x, l, res = power_method(A_d, x0, 100)\n",
    "plot_residual(res)"
   ]
  },
  {
   "cell_type": "code",
   "execution_count": 15,
   "metadata": {},
   "outputs": [
    {
     "data": {
      "text/plain": [
       "0.97"
      ]
     },
     "execution_count": 15,
     "metadata": {},
     "output_type": "execute_result"
    }
   ],
   "source": [
    "# The second largest eigenvalue for A_d:\n",
    "np.sort(np.abs(np.linalg.eigvals(A_d)))[-2]"
   ]
  },
  {
   "cell_type": "code",
   "execution_count": 16,
   "metadata": {},
   "outputs": [
    {
     "name": "stderr",
     "output_type": "stream",
     "text": [
      "100%|█████████████████████████████████████████████████████████████████████████████| 100/100 [00:00<00:00, 50153.10it/s]\n"
     ]
    },
    {
     "data": {
      "image/png": "[encoded data removed]",
      "text/plain": [
       "<Figure size 432x288 with 1 Axes>"
      ]
     },
     "metadata": {
      "needs_background": "light"
     },
     "output_type": "display_data"
    },
    {
     "name": "stderr",
     "output_type": "stream",
     "text": [
      "100%|█████████████████████████████████████████████████████████████████████████████| 100/100 [00:00<00:00, 49298.35it/s]\n"
     ]
    },
    {
     "data": {
      "image/png": "[encoded data removed]",
      "text/plain": [
       "<Figure size 432x288 with 1 Axes>"
      ]
     },
     "metadata": {
      "needs_background": "light"
     },
     "output_type": "display_data"
    },
    {
     "name": "stderr",
     "output_type": "stream",
     "text": [
      "100%|█████████████████████████████████████████████████████████████████████████████| 100/100 [00:00<00:00, 50147.11it/s]\n"
     ]
    },
    {
     "data": {
      "image/png": "[encoded data removed]",
      "text/plain": [
       "<Figure size 432x288 with 1 Axes>"
      ]
     },
     "metadata": {
      "needs_background": "light"
     },
     "output_type": "display_data"
    },
    {
     "name": "stderr",
     "output_type": "stream",
     "text": [
      "100%|█████████████████████████████████████████████████████████████████████████████| 100/100 [00:00<00:00, 50766.21it/s]\n"
     ]
    },
    {
     "data": {
      "image/png": "[encoded data removed]",
      "text/plain": [
       "<Figure size 432x288 with 1 Axes>"
      ]
     },
     "metadata": {
      "needs_background": "light"
     },
     "output_type": "display_data"
    },
    {
     "name": "stderr",
     "output_type": "stream",
     "text": [
      "100%|█████████████████████████████████████████████████████████████████████████████| 100/100 [00:00<00:00, 33436.73it/s]\n"
     ]
    },
    {
     "data": {
      "image/png": "[encoded data removed]",
      "text/plain": [
       "<Figure size 432x288 with 1 Axes>"
      ]
     },
     "metadata": {
      "needs_background": "light"
     },
     "output_type": "display_data"
    }
   ],
   "source": [
    "# Changing the value of damping factor, try to get dependence\n",
    "ds = [0., 0.25, 0.5, 0.75, 0.85]\n",
    "for d in ds:\n",
    "    Ad = d*A+ (1-d) / A.shape[0] * np.ones_like(A)\n",
    "    x_init = 2*np.random.rand(Ad.shape[0])-1\n",
    "    x_init /=np.sqrt(x_init@x_init)\n",
    "    x, l, res = power_method(Ad, x_init, 100)\n",
    "    plot_residual(res)"
   ]
  },
  {
   "cell_type": "code",
   "execution_count": 17,
   "metadata": {},
   "outputs": [
    {
     "data": {
      "text/plain": [
       "0.85"
      ]
     },
     "execution_count": 17,
     "metadata": {},
     "output_type": "execute_result"
    }
   ],
   "source": [
    "# The second largest eigenvalue for A_d:\n",
    "np.sort(np.abs(np.linalg.eigvals(Ad)))[-2]"
   ]
  },
  {
   "cell_type": "markdown",
   "metadata": {},
   "source": [
    "Convergence rate is decreases with increasing of damping factor. \n",
    "\n",
    "The second maximal eigenvalue is equal to damping factor, as maximal eigenvalue is equal to one."
   ]
  },
  {
   "cell_type": "code",
   "execution_count": 18,
   "metadata": {
    "id": "4o3LKx5UOGIv"
   },
   "outputs": [],
   "source": [
    "# INPUT:  A - np.ndarray (2D), d - float (from 0.0 to 1.0), x - np.ndarray (1D, size of A.shape[0/1])\n",
    "# OUTPUT: y - np.ndarray (1D, size of x)\n",
    "def pagerank_matvec(A, d, x): # 2 pts TODO\n",
    "    y = d * A@x + (1-d) * np.mean(x)\n",
    "    return y"
   ]
  },
  {
   "cell_type": "code",
   "execution_count": 19,
   "metadata": {},
   "outputs": [],
   "source": [
    "from scipy.sparse import csr_matrix\n",
    "import time\n",
    "\n",
    "d = 0.9\n",
    "N = 10000\n",
    "# create csr matrix\n",
    "A = np.zeros((N, N))\n",
    "idx = np.random.randint(0, N, size=(100, 2))\n",
    "A[idx] = 1.0\n",
    "A = csr_matrix(A)\n",
    "\n",
    "x = np.random.uniform(size=N)\n",
    "\n",
    "matvec_time = %timeit -o -q pagerank_matvec(A, d, x)\n",
    "direct_time = %timeit -o -q d*A@x + (1-d)/N*np.ones(N)@x\n"
   ]
  },
  {
   "cell_type": "code",
   "execution_count": 20,
   "metadata": {},
   "outputs": [
    {
     "name": "stdout",
     "output_type": "stream",
     "text": [
      "Matvec average time: 9.77 ms ± 359 µs per loop (mean ± std. dev. of 7 runs, 100 loops each)\n",
      "Direct time average: 11 ms ± 380 µs per loop (mean ± std. dev. of 7 runs, 100 loops each)\n"
     ]
    }
   ],
   "source": [
    "print('Matvec average time:', matvec_time)\n",
    "print('Direct time average:', direct_time)"
   ]
  },
  {
   "cell_type": "markdown",
   "metadata": {},
   "source": [
    "As we could see direct approach is slower."
   ]
  },
  {
   "cell_type": "markdown",
   "metadata": {
    "id": "ru70NGUlOGIy"
   },
   "source": [
    "#### DBLP: computer science bibliography\n",
    "\n",
    "Download the dataset from [here](https://goo.gl/oZVxEa), unzip it and put `dblp_authors.npz`  and `dblp_graph.npz` in the same folder with this notebook. Each value (author name) from `dblp_authors.npz` corresponds to the row/column of the matrix from `dblp_graph.npz`. Value at row `i` and column `j` of the matrix from `dblp_graph.npz` corresponds to the number of times author `i` cited papers of the author `j`. Let us now find the most significant scientists according to PageRank model over DBLP data.\n",
    "\n",
    "* (4 pts) Load the weighted adjacency matrix and the authors list into Python using ```load_dblp(...)``` function. Print its density (fraction of nonzero elements). Find top-10 most cited authors from the weighted adjacency matrix. Now, make all the weights of the adjacency matrix equal to 1 for simplicity (consider only existence of connection between authors, not its weight). Obtain the PageRank matrix $A$ from the adjacency matrix and verify that it is stochastic.\n",
    " \n",
    " \n",
    "* (1 pts) In order to provide ```pagerank_matvec``` to your ```power_method``` (without rewriting it) for fast calculation of $A_dx$, you can create a ```LinearOperator```: \n",
    "```python\n",
    "L = scipy.sparse.linalg.LinearOperator(A.shape, matvec=lambda x, A=A, d=d: pagerank_matvec(A, d, x))\n",
    "```\n",
    "Calling ```L@x``` or ```L.dot(x)``` will result in calculation of ```pagerank_matvec(A, d, x)``` and, thus, you can plug $L$ instead of the matrix $A$ in the ```power_method``` directly. **Note:** though in the previous subtask graph was very small (so you could disparage fast matvec implementation), here it is very large (but sparse), so that direct evaluation of $A_dx$ will require $\\sim 10^{12}$ matrix elements to store - good luck with that (^_<).\n",
    "\n",
    "\n",
    "* (2 pts) Run the power method starting from the vector of all ones and plot residuals $\\|A_dx_k - \\lambda_k x_k\\|_2$  as a function of $k$ for $d=0.85$.\n",
    "\n",
    "\n",
    "* (1 pts) Print names of the top-10 authors according to PageRank over DBLP when $d=0.85$. Comment on your findings."
   ]
  },
  {
   "cell_type": "code",
   "execution_count": 21,
   "metadata": {
    "id": "L5ZnW7m-OGIz"
   },
   "outputs": [],
   "source": [
    "from scipy.sparse import load_npz\n",
    "import numpy as np\n",
    "def load_dblp(path_auth, path_graph):\n",
    "    G = load_npz(path_graph).astype(float)\n",
    "    with np.load(path_auth) as data: authors = data['authors']\n",
    "    return G, authors\n",
    "G, authors = load_dblp('dblp/dblp_authors.npz', 'dblp/dblp_graph.npz')"
   ]
  },
  {
   "cell_type": "code",
   "execution_count": 22,
   "metadata": {},
   "outputs": [
    {
     "name": "stdout",
     "output_type": "stream",
     "text": [
      "fraction of nonzero elements  4.4986518152305776e-05\n"
     ]
    }
   ],
   "source": [
    "print('fraction of nonzero elements ', G.nonzero()[0].shape[0] / (G.shape[0] * G.shape[1]))"
   ]
  },
  {
   "cell_type": "code",
   "execution_count": 37,
   "metadata": {},
   "outputs": [
    {
     "name": "stdout",
     "output_type": "stream",
     "text": [
      "top 10 authors are:  ['Hari Balakrishnan' 'Anil K. Jain' 'Chih-Jen Lin' 'Scott Shenker'\n",
      " 'David G. Lowe' 'Jitendra Malik' 'David E. Goldberg' 'Michael I. Jordan'\n",
      " 'Vladimir Vapnik' 'Jiawei Han']\n"
     ]
    }
   ],
   "source": [
    "\n",
    "col_sum = np.squeeze(np.asarray(np.sum(G, axis=0)))\n",
    "top_authors = sorted(range(len(col_sum)), reverse=True, key=lambda k: col_sum[k])[:10]\n",
    "print('top 10 authors are: ',authors[top_authors])"
   ]
  },
  {
   "cell_type": "code",
   "execution_count": 24,
   "metadata": {},
   "outputs": [],
   "source": [
    "from scipy.sparse import diags\n",
    "import scipy\n",
    "\n",
    "G[G.nonzero()]  = 1.0"
   ]
  },
  {
   "cell_type": "code",
   "execution_count": 25,
   "metadata": {},
   "outputs": [
    {
     "data": {
      "text/plain": [
       "<1766547x1766547 sparse matrix of type '<class 'numpy.float64'>'\n",
       "\twith 140388901 stored elements in Compressed Sparse Row format>"
      ]
     },
     "execution_count": 25,
     "metadata": {},
     "output_type": "execute_result"
    }
   ],
   "source": [
    "G"
   ]
  },
  {
   "cell_type": "code",
   "execution_count": 26,
   "metadata": {
    "id": "QynfixvjOGI1"
   },
   "outputs": [],
   "source": [
    "A = pagerank_matrix(G)"
   ]
  },
  {
   "cell_type": "code",
   "execution_count": 27,
   "metadata": {},
   "outputs": [
    {
     "name": "stdout",
     "output_type": "stream",
     "text": [
      "Matrix is stochastic\n"
     ]
    }
   ],
   "source": [
    "d = 0.85\n",
    "cols_sum = np.squeeze(np.asarray(np.sum(A, axis=0)))\n",
    "\n",
    "epsilon = 1e-10\n",
    "is_stochastic = 1\n",
    "\n",
    "for col in range(A.shape[0]):\n",
    "    if abs(cols_sum[col]) > epsilon and abs(cols_sum[col] - 1) > epsilon:\n",
    "        is_stochastic = 0\n",
    "        print(cols_sum[col])\n",
    "        break\n",
    "        \n",
    "if (is_stochastic):\n",
    "    print(\"Matrix is stochastic\")\n",
    "else:\n",
    "    print(\"Matrix is not stochastic\")"
   ]
  },
  {
   "cell_type": "code",
   "execution_count": 28,
   "metadata": {},
   "outputs": [],
   "source": [
    "from scipy.sparse import linalg\n",
    "L = linalg.LinearOperator(A.shape, matvec=lambda x, A=A, d=d: pagerank_matvec(A, d, x))"
   ]
  },
  {
   "cell_type": "code",
   "execution_count": 29,
   "metadata": {},
   "outputs": [
    {
     "name": "stderr",
     "output_type": "stream",
     "text": [
      "100%|████████████████████████████████████████████████████████████████████████████████| 100/100 [08:50<00:00,  5.31s/it]\n"
     ]
    }
   ],
   "source": [
    "x0 = np.ones(A.shape[0])\n",
    "x, l, res = power_method(L, x0, 100)"
   ]
  },
  {
   "cell_type": "code",
   "execution_count": 32,
   "metadata": {},
   "outputs": [
    {
     "data": {
      "image/png": "[encoded data removed]",
      "text/plain": [
       "<Figure size 432x288 with 1 Axes>"
      ]
     },
     "metadata": {
      "needs_background": "light"
     },
     "output_type": "display_data"
    }
   ],
   "source": [
    "plt.title(\"Power method for matrix\")\n",
    "plt.ylabel(\"log(residual)\")\n",
    "plt.xlabel(\"k\")\n",
    "plt.plot(np.log(res+1e-15))\n",
    "plt.show()"
   ]
  },
  {
   "cell_type": "code",
   "execution_count": 33,
   "metadata": {},
   "outputs": [
    {
     "name": "stdout",
     "output_type": "stream",
     "text": [
      "Top Pagerank authors are:  ['Wei Wang' 'Yang Liu' 'Wei Zhang' 'Wei Li' 'Lei Wang'\n",
      " 'Athanasios V. Vasilakos' 'Lei Zhang' 'Jun Zhang' 'Jun Wang' 'Li Li']\n"
     ]
    }
   ],
   "source": [
    "# Top authors\n",
    "top_authors2 = sorted(range(len(x)), reverse=True, key=lambda k: x[k])[:10]\n",
    "print('Top Pagerank authors are: ', authors[top_authors2])"
   ]
  },
  {
   "cell_type": "markdown",
   "metadata": {},
   "source": [
    "Authors are different to the most cited one, but they  looks similar to list of authors with a lot of references to other works."
   ]
  },
  {
   "cell_type": "code",
   "execution_count": 38,
   "metadata": {},
   "outputs": [
    {
     "name": "stdout",
     "output_type": "stream",
     "text": [
      "Authors that reference to much other works:  ['Wei Wang' 'Yang Liu' 'Wei Zhang' 'Lei Zhang' 'Lei Wang' 'Wei Li'\n",
      " 'Jun Wang' 'Wei Liu' 'Jun Zhang' 'Yan Zhang']\n"
     ]
    }
   ],
   "source": [
    "col_sum = np.squeeze(np.asarray(np.sum(G, axis=1)))\n",
    "ref_authors = sorted(range(len(col_sum)), reverse=True, key=lambda k: col_sum[k])[:10]\n",
    "print('Authors that reference to much other works: ',authors[ref_authors])"
   ]
  },
  {
   "cell_type": "markdown",
   "metadata": {
    "id": "hQ2vaIyMOGI3"
   },
   "source": [
    "### 3. QR algorithm (10 pts)\n",
    "\n",
    "* Implement QR-algorithm without shifting. Prototype of the function is given below"
   ]
  },
  {
   "cell_type": "code",
   "execution_count": 44,
   "metadata": {},
   "outputs": [],
   "source": [
    "from scipy.spatial.distance import chebyshev\n",
    "def chebyshev_norm(flatten_matrix):\n",
    "    a = flatten_matrix\n",
    "    norms = []\n",
    "    x = a.copy()\n",
    "    for i in range(a.shape[0]):\n",
    "        x = np.roll(a, i)\n",
    "        norms.append(chebyshev(a, x))\n",
    "    return np.max(norms) "
   ]
  },
  {
   "cell_type": "code",
   "execution_count": 45,
   "metadata": {
    "id": "rMHBZLojOGI3"
   },
   "outputs": [],
   "source": [
    "import scipy.linalg\n",
    "from tqdm import tqdm\n",
    "# INPUT: \n",
    "# A_init - square matrix, \n",
    "# num_iter - number of iterations for QR algorithm\n",
    "# OUTPUT: \n",
    "# Ak - transformed matrix A_init given by QR algorithm, \n",
    "# convergence - numpy array of shape (num_iter, ), \n",
    "# where we store the maximal number from the Chebyshev norm \n",
    "# of triangular part of the Ak for every iteration\n",
    "def qr_algorithm(A_init, num_iter): # 3 pts\n",
    "    A_k = A_init\n",
    "    convergence = np.zeros(num_iter)\n",
    "    for k in tqdm(range(num_iter)):\n",
    "        Q_k, R_k = scipy.linalg.qr(A_k)\n",
    "        A_k = R_k.dot(Q_k)\n",
    "        convergence[k] = chebyshev_norm(R_k.flatten())\n",
    "    return A_k, convergence"
   ]
  },
  {
   "cell_type": "markdown",
   "metadata": {
    "id": "UNrCBNRUOGI6"
   },
   "source": [
    "#### Symmetric case (3 pts)\n",
    "- Create symmetric tridiagonal $11 \\times 11$ matrix with elements $-1, 2, -1$ on sub-, main- and upper diagonal respectively without using loops.\n",
    "- Run $400$ iterations of the QR algorithm for this matrix.\n",
    "- Plot the output matrix with function ```plt.spy(Ak, precision=1e-7)```.\n",
    "- Plot convergence of QR-algorithm."
   ]
  },
  {
   "cell_type": "code",
   "execution_count": 46,
   "metadata": {
    "id": "NuKwQGXbOGI6"
   },
   "outputs": [],
   "source": [
    "def create_matrix(diag_broadcast, n):\n",
    "    m = len(diag_broadcast)\n",
    "    # check the num of diagonals in matrix\n",
    "    assert m==3 or m==5\n",
    "    if (m==3):\n",
    "    #     get tridiagonal matrix\n",
    "        diagonals = [[diag_broadcast[0]]*(n-1), [diag_broadcast[1]]*n, [diag_broadcast[2]]*(n-1)]\n",
    "        A = diags(diagonals, [-1, 0, 1]).toarray()\n",
    "    else:\n",
    "    #     get pentidiagonal matrix\n",
    "        diagonals = [[diag_broadcast[0]]*(n-2), [diag_broadcast[1]]*(n-1), [diag_broadcast[2]]*n, [diag_broadcast[3]]*(n-1), [diag_broadcast[4]]*(n-2)]\n",
    "        A = diags(diagonals, [-2, -1, 0, 1, 2]).toarray()\n",
    "    return A"
   ]
  },
  {
   "cell_type": "code",
   "execution_count": 47,
   "metadata": {},
   "outputs": [],
   "source": [
    "from scipy.sparse import diags\n",
    "A = create_matrix(diag_broadcast =[-1,2,-1], n=11)"
   ]
  },
  {
   "cell_type": "code",
   "execution_count": 48,
   "metadata": {},
   "outputs": [
    {
     "name": "stderr",
     "output_type": "stream",
     "text": [
      "100%|████████████████████████████████████████████████████████████████████████████████| 400/400 [00:04<00:00, 96.18it/s]\n"
     ]
    }
   ],
   "source": [
    "Ak, convergence = qr_algorithm(A, 400)"
   ]
  },
  {
   "cell_type": "code",
   "execution_count": 49,
   "metadata": {},
   "outputs": [
    {
     "data": {
      "text/plain": [
       "<matplotlib.image.AxesImage at 0x150c721dee0>"
      ]
     },
     "execution_count": 49,
     "metadata": {},
     "output_type": "execute_result"
    },
    {
     "data": {
      "image/png": "[encoded data removed]",
      "text/plain": [
       "<Figure size 432x288 with 1 Axes>"
      ]
     },
     "metadata": {
      "needs_background": "light"
     },
     "output_type": "display_data"
    }
   ],
   "source": [
    "from matplotlib import pyplot as plt\n",
    "plt.spy(Ak, precision=1e-7)"
   ]
  },
  {
   "cell_type": "code",
   "execution_count": 50,
   "metadata": {},
   "outputs": [
    {
     "data": {
      "image/png": "[encoded data removed]",
      "text/plain": [
       "<Figure size 432x288 with 1 Axes>"
      ]
     },
     "metadata": {
      "needs_background": "light"
     },
     "output_type": "display_data"
    }
   ],
   "source": [
    "plt.title('convergence')\n",
    "plt.plot(np.log(convergence))\n",
    "plt.xlabel('iter')\n",
    "plt.ylabel('log(max chebyshev distance)')\n",
    "plt.show()"
   ]
  },
  {
   "cell_type": "markdown",
   "metadata": {
    "id": "-lomV2K-OGI8"
   },
   "source": [
    "#### Nonsymmetric case (4 pts)\n",
    "\n",
    "- Create nonsymmetric tridiagonal $11 \\times 11$ matrix with elements $5, 3, -2$ on sub-, main- and upper diagonal respectively without using loops.\n",
    "- Run $250$ iterations of the QR algorithm for this matrix.\n",
    "- Plot the result matrix with function ```plt.spy(Ak, precision=1e-7)```. Is this matrix lower triangular? How does this correspond to the claim about convergence of the QR algorithm?"
   ]
  },
  {
   "cell_type": "code",
   "execution_count": 51,
   "metadata": {
    "id": "C2lGBHjaOGI9"
   },
   "outputs": [
    {
     "name": "stderr",
     "output_type": "stream",
     "text": [
      "100%|███████████████████████████████████████████████████████████████████████████████| 250/250 [00:02<00:00, 103.34it/s]\n"
     ]
    },
    {
     "data": {
      "text/plain": [
       "<matplotlib.image.AxesImage at 0x150c711b070>"
      ]
     },
     "execution_count": 51,
     "metadata": {},
     "output_type": "execute_result"
    },
    {
     "data": {
      "image/png": "[encoded data removed]",
      "text/plain": [
       "<Figure size 432x288 with 1 Axes>"
      ]
     },
     "metadata": {
      "needs_background": "light"
     },
     "output_type": "display_data"
    }
   ],
   "source": [
    "A = create_matrix(diag_broadcast =[5,3,-2], n=11)\n",
    "\n",
    "Ak, convergence = qr_algorithm(A, 250)\n",
    "\n",
    "plt.spy(Ak, precision=1e-7)"
   ]
  },
  {
   "cell_type": "markdown",
   "metadata": {},
   "source": [
    "We get upper triangular matrix"
   ]
  },
  {
   "cell_type": "code",
   "execution_count": 52,
   "metadata": {},
   "outputs": [
    {
     "data": {
      "image/png": "[encoded data removed]",
      "text/plain": [
       "<Figure size 432x288 with 1 Axes>"
      ]
     },
     "metadata": {
      "needs_background": "light"
     },
     "output_type": "display_data"
    }
   ],
   "source": [
    "plt.title('convergence')\n",
    "plt.plot(np.log(convergence))\n",
    "plt.xlabel('iter')\n",
    "plt.ylabel('log(max chebyshev distance)')\n",
    "plt.show()"
   ]
  },
  {
   "cell_type": "markdown",
   "metadata": {},
   "source": [
    "From this graph we could see that there is no convergence"
   ]
  },
  {
   "cell_type": "markdown",
   "metadata": {
    "id": "c_8OYe7wOGI-"
   },
   "source": [
    "## Problem 3. (Pseudo-Schur decomposition) 15 pts\n",
    "Let's redifine scalar product $ \\forall x, y \\in \\mathbb{C}^n$ in a following way:\n",
    "\n",
    "$$ [x,y]_J = y^{*}Jx, \\text{s.t.}\\ J = \\text{diag}(j_{11}, j_{22}, \\dots, j_{nn})\\ \\text{and}\\ j_{ii} = \\pm1\\ \\forall i \\in [1,n].$$\n",
    "\n",
    "Denote rows of matrix $V \\in \\mathbb{C}^{n \\times n}$ as $v_1, v_2, \\dots, v_n$. Then $V$ is called $\\textbf{J-orthonormal}$ iff \n",
    "\n",
    "$$[v_i, v_k]_J = \\pm \\delta_{ik}.$$\n",
    "\n",
    "We will call matrix $T \\in \\mathbb{C}^{n \\times n}$ $\\textbf{almost triangular}$ iff $T$ is upper triangular with diagonal blocks of order $1$ or $2$.\n",
    "\n",
    "Matrix $A \\in \\mathbb{C}^{n \\times n}$ is said to be $\\textbf{J-decomposable}$ if exist J-orthonormal matrix $V$ and upper triangular matrix $T$ such that \n",
    "\n",
    "\n",
    "$$A = V T V^{-1}.$$\n",
    "\n",
    "Matrix $A \\in \\mathbb{C}^{n \\times n}$ is said to have $\\textbf{pseudoschur J-decomposition}$ if exist J-orthonormal matrix $V$ and almost triangular matrix $T$ such that\n",
    "\n",
    "\n",
    "$$A = V T V^{-1}.$$\n",
    "\n",
    "This problem is to get familiar with the fact that two abovementioned decompositions exist not for any square matrix with complex entries.\n",
    "\n",
    "\n",
    "\n",
    "\n",
    "- (2 pts) $A$ has pseudoschur J-decomposition $A = V T V^{-1}, \\ \\text{where}\\ V = \\begin{bmatrix}\n",
    "v_1\\\\\n",
    "\\dots \\\\\n",
    "v_n\n",
    "\\end{bmatrix}, \\ T = \\begin{bmatrix} T_{ij} \\end{bmatrix}$ and $v_1$ is $\\textbf{not}$ an eigenvector of $A$. Show that $T_{21} \\ne 0$. \n",
    "\n",
    "$\\square$ Multiply by nonzero vector $v_{1}$: $Av_{1} = VTV^{-1}v_{1}\\ \\ \\  (1)$\n",
    "\n",
    "$V^{-1}V=VV^{-1}= I$\n",
    "\n",
    "$V = [v_{1}, v_{2}, v_{3}, \\dots, v_{n}]^{T}$\n",
    "\n",
    "$V^{-1}v_{1}$ is a first column of matrix $I$ $\\Rightarrow$ $V^{-1}v_{1} = [1, 0, 0,\\dots 0]^{T}$.\n",
    "\n",
    "Then $TV^{-1}v_{1}$ is the first column of matrix T.\n",
    "\n",
    "As T is almost upper triangular, $TV^{-1}v_{1} = [T_{11}, T_{21}, 0, 0,\\dots, 0]^{T}$\n",
    "\n",
    "If we assume that $T_{21}=0 \\Rightarrow TV^{-1}v_{1} = [T_{11}, 0, 0, 0,\\dots,0]^{T}$.\n",
    "\n",
    "\n",
    "Then $VTV^{-1}v_{1}$ is equal to $v_{1}T_{11}, $where $T_{11}$ is scalar.\n",
    "\n",
    "SO we get, $Av_{1} = v_{1}T_{11}$. As $v_{1}$ is not an eigenvector of A $\\Rightarrow$ $T_{21}\\neq 0. \\ \\ \\ \\blacksquare$\n",
    "\n",
    "- (5 pts) Given $J = \\text{diag}(1, -1)$ and $A = \\begin{bmatrix}\n",
    "3   \\ -1\\\\\n",
    "-1\\   \\ 3\\\\\n",
    "\\end{bmatrix}$, prove that $A$ is not J-decomposable.\n",
    "\n",
    "\n",
    "$\\square $ Find eigenvalues of matrix A.\n",
    "\n",
    "$|A-\\lambda I| = (3-\\lambda)^{2}-1=0 \\Rightarrow \\lambda_{1,2} = 2,4$ and eigenvectors are equal to $[a,a]^{T}$ and $[a,-a]^{T}.$\n",
    "\n",
    "Assume A is J-decomposable. Then $v_{1}$ is eigenvector of A $\\Rightarrow$ from previous task $T_{21}=0\\Rightarrow$   $T = \\begin{bmatrix}\n",
    "T_{11}\\   \\ T_{12}\\\\\n",
    "0\\   \\ \\ \\ \\  T_{22}\\\\\n",
    "\\end{bmatrix}$\n",
    "\n",
    "As $T_{11}$ is equal to first eigenvalue(from previous task), for example $T_{11}=2\\Rightarrow A  = \\begin{bmatrix}\n",
    "3   \\ -1\\\\\n",
    "-1\\   \\ 3\\\\\n",
    "\\end{bmatrix} = \\frac{1}{ay-ax} \\begin{bmatrix}\n",
    "a\\   \\ x\\\\\n",
    "a\\   \\ y\\\\\n",
    "\\end{bmatrix} \\begin{bmatrix}\n",
    "2\\   \\ T_{12}\\\\\n",
    "0\\   \\ T_{22}\\\\\n",
    "\\end{bmatrix}\\begin{bmatrix}\n",
    "\\ \\ \\ \\ y\\   \\ -x\\\\\n",
    "-a\\   \\ \\ \\ a\\\\\n",
    "\\end{bmatrix}$ (*)\n",
    "\n",
    "Find x and y from J-orthonormality for matrix V:\n",
    "\n",
    "$a^{2}- x^{2}=\\pm 1, \\ \\  a^{2} - y^{2}=\\pm 1, \\ \\  a^{2}-xy = 0 $.\n",
    "\n",
    "From first two equations it follows that either $x=y$, or $x=-y$. First case is not good, because V will be singular matrix, so $x=-y$.  So we get $a^{2}-y^{2}=\\pm 1$ and $a^{2}+y^{2}=0 $. As a is real and $y^{2}=a^{2}\\pm 1$ then from second equation:\n",
    "\n",
    "$2a^{2}\\pm 1 = 0$, which doesn't hold for sign $'+'\\Rightarrow A$ is not J-decomposable. Same situation for another eigenvector and eigenvalue. \n",
    "\n",
    "If we open brackets in (*), we could get,  that  $T_{12}=0, T_{22}=4$. That means that matrix A is diagonazible, and T = diag(2, 4). But it leads to orthogonality of matrices from left and right side of T. So [x, y] is the second eigenvector correspond to second eigen value $\\Rightarrow$ obtained orthonormal matrix is not J-orthonormal$\\Rightarrow$ A is not J-decomposable.\n",
    "$\\ \\ \\ \\blacksquare$\n",
    "\n",
    "\n",
    "- (8 pts) Given that $A \\in \\mathbb{C}^{n \\times n}$ is diagonalizable, show that it has pseudoschur J-decomposition for any $J$ of form $J=\\text{diag}(\\pm 1, \\dots, \\pm 1)$.  \n",
    "\n",
    "TODO\n"
   ]
  },
  {
   "cell_type": "markdown",
   "metadata": {
    "id": "herV0xZ3OGJB"
   },
   "source": [
    "## Problem 4. (Skeleton decomposition) 28 pts\n",
    "\n",
    "The application that we are particularly interested in is\n",
    "the approximation of a given matrix by a low-rank matrix:\n",
    "\n",
    "$$ A \\approx UV^T, A \\in \\mathbb{R}^{m \\times n}, U \\in \\mathbb{R}^{m \\times r}, V \\in \\mathbb{R}^{n \\times r}.$$\n",
    "\n",
    "It is well known that the best (in any unitary invariant norm) low-rank approximation can be computed via singular value decomposition (SVD). As an alternative, we can consider skeleton decompostion of the form:\n",
    "\n",
    "$$A \\approx A_r = A(: , \\mathcal{J})A(\\mathcal{I} , \\mathcal{J})^{-1}A(\\mathcal{I} , :),$$\n",
    "where $\\mathcal{I,J}$ are some index sets of length $r$."
   ]
  },
  {
   "cell_type": "markdown",
   "metadata": {
    "id": "fK7v5oD4d6zR"
   },
   "source": [
    "Below we consider the matrix $N \\times N$ derived from the following function discretization in the uniform grid in square $[0, 1] \\times [0, 1]$:\n",
    "$ f(x, y) = \\exp(-\\sqrt{x^2 + y^2})$.\n",
    "It means that $A = [a_{ij}]$, where $a_{ij} = f(x_i, x_j)$ and $x_i = i / (N-1)$, $x_j = j / (N-1)$, where $i, j = 0,\\ldots, N-1$.\n",
    "\n",
    "- (2 pts) compose this matrix for $N = 5000$ without loops (Hint: function ```np.meshgrid``` can help you)\n"
   ]
  },
  {
   "cell_type": "code",
   "execution_count": 53,
   "metadata": {
    "id": "W6OvG8PJdenP"
   },
   "outputs": [],
   "source": [
    "import numpy as np\n",
    "from matplotlib import pyplot as plt\n",
    "# define num of points\n",
    "N = 5000\n",
    "x = np.linspace(0, 1, N)\n",
    "xx, yy = np.meshgrid(x, x)\n",
    "# define function\n",
    "def f(x, y):\n",
    "    return np.exp(-np.sqrt(x**2+y**2))\n",
    "\n",
    "A = f(xx, yy) "
   ]
  },
  {
   "cell_type": "markdown",
   "metadata": {
    "id": "Rj_OMuY7gvH9"
   },
   "source": [
    "- (3 pts) Compute Skeleton approximation with random selection of rows and columns indices for $r = 5$ (check that submatrix in the intersection of rows and columns is nonsingular). Average the relative error $\\frac{\\|A - A_r \\|_F}{\\|A\\|_F}$ over $M$ samples of column/row indices. Check that $M$ is sufficiently large to provide stable mean.\n",
    "\n",
    " Note: extracting submatrices should be done according to ```numpy```  e.g. ```A[index_set, :]``` to extract selected rows, ```A[:, index_set]``` to extract selected columns etc..\n"
   ]
  },
  {
   "cell_type": "code",
   "execution_count": 59,
   "metadata": {
    "id": "Qw4m6q0qjaSr"
   },
   "outputs": [],
   "source": [
    "# Your solution is here\n",
    "def generate_samples(M, r):\n",
    "#     generate matrixes with random indixes\n",
    "    idx_array =  [i for i in range(N)]\n",
    "    random_row_idx = np.random.choice(idx_array, r, replace=False)\n",
    "    random_column_idx = random_row_idx #np.random.choice(idx_array, r, replace=False)\n",
    "    A_L = A[random_row_idx, :]\n",
    "    A_LJ = A_L[:, random_column_idx]\n",
    "    A_J = A[:, random_column_idx]\n",
    "    return A_L, A_LJ, A_J\n",
    "\n",
    "def compute_error(A_r, A):\n",
    "    error = np.linalg.norm(A-A_r, ord='fro')/np.linalg.norm(A, ord='fro')\n",
    "    return error"
   ]
  },
  {
   "cell_type": "code",
   "execution_count": 60,
   "metadata": {},
   "outputs": [
    {
     "name": "stderr",
     "output_type": "stream",
     "text": [
      "100%|████████████████████████████████████████████████████████████████████████████████| 500/500 [01:58<00:00,  4.24it/s]\n"
     ]
    }
   ],
   "source": [
    "from tqdm import tqdm\n",
    "r = 5\n",
    "errors = []\n",
    "det_values = [] #values of determinant\n",
    "M = 500\n",
    "for i in tqdm(range(M)):\n",
    "    A_L, A_LJ, A_J = generate_samples(M, r)\n",
    "    det = np.linalg.det(A_LJ)\n",
    "    det_values.append(det)\n",
    "#     check singularity\n",
    "    if det == 0:\n",
    "        continue #not include this sample\n",
    "    rank_values.append(rank)\n",
    "    A_r = A_J @ np.linalg.inv(A_LJ) @ A_L\n",
    "    errors.append(compute_error(A_r, A))\n"
   ]
  },
  {
   "cell_type": "code",
   "execution_count": 61,
   "metadata": {},
   "outputs": [
    {
     "data": {
      "text/plain": [
       "[<matplotlib.lines.Line2D at 0x150c6f85970>]"
      ]
     },
     "execution_count": 61,
     "metadata": {},
     "output_type": "execute_result"
    },
    {
     "data": {
      "image/png": "[encoded data removed]",
      "text/plain": [
       "<Figure size 432x288 with 1 Axes>"
      ]
     },
     "metadata": {
      "needs_background": "light"
     },
     "output_type": "display_data"
    }
   ],
   "source": [
    "plt.plot(errors)"
   ]
  },
  {
   "cell_type": "markdown",
   "metadata": {
    "id": "lwP2qdOCkTBo"
   },
   "source": [
    "As you should know from the lecture, if $A$ is of rank $r$ and $\\hat{A} = A(\\mathcal{I} , \\mathcal{J})$ is nonsingular, then the exact equality holds. In the approximate case, however, the quality of the approximation depends on the volume of the submatrix $\\hat{A}$: \n",
    "\n",
    "**Theorem**\n",
    "\n",
    "*If $\\hat{A} = A_{max}$ has maximal in modulus determinant among all $r \\times r$ submatrices of $A$, the following error etimate holds:*\n",
    "\n",
    "$$ \\|A - A_r\\|_1 \\leq (r+1)\\sigma_{r+1}.$$\n",
    "\n",
    "\n",
    "And the question is how to choose a good submatrix of nearly maximal volume in practice.\n",
    "\n",
    "**Definition**: *We call $r \\times r$ submatrix $A_{dom}$ of rectangular $n \\times r$ matrix $A$ of\n",
    "full rank dominant, if all the entries of $AA_{dom}^{-1}$ are not greater than $1$ in\n",
    "modulus.*\n",
    "\n",
    "The crucial theoretical result behind the scene is that the volume of any dominant submatrix $A_{dom}$ can not be very much smaller than the maximum volume submatrix $A_{max}$ (without proof).\n",
    "\n",
    "We provide the following algorithm for constructing dominant submatrix of a tall matrix.\n",
    "\n",
    "**Algorithm 1**: \n",
    "    \n",
    "Given matrix $A$ of size $n \\times r$ finds dominant submatrix of size $r \\times r$\n",
    "\n",
    "1. Start with arbitrary nonsingular $r \\times r$ submatrix $A_{dom}$. Reorder rows in $A$ so that $A_{dom}$ occupies first $r$ rows in $A$.\n",
    "\n",
    "2. Compute $B = AA_{dom}^{-1}$ and find its maximum in module  entry $b_{ij}$.\n",
    "\n",
    "3. **If $|b_{ij}| > 1 + \\delta$, then**:\n",
    "\n",
    "    Swap rows $i$ and $j$ in $B$. By swapping the rows we have increased the volume of the upper submatrix in $B$, as well as in $A$ (why?). Let $A_{dom}$ be the new upper submatrix of $A$ and go to __step 2__.\n",
    "\n",
    "    **elseif $|b_{ij}| < 1 + \\delta$**:\n",
    "    \n",
    "    return $A_{dom}$.\n",
    "\n",
    "Note: $\\delta = 10^{-2}$ seems to be a good practical choice."
   ]
  },
  {
   "cell_type": "markdown",
   "metadata": {
    "id": "v68vVZrJnryX"
   },
   "source": [
    "- (10 pts) Implement algorithm 1 according to the following signature, where the function returns ```row_indices``` array which can be used as ```A[row_indices, :]``` to extract selected submatrix.\n",
    "\n",
    "Note that matrix inverse $A_{dom}^{-1}$ in step 2 has to be updated efficiently using [Shermann-Morison formula](https://en.wikipedia.org/wiki/Sherman%E2%80%93Morrison_formula) (inverse of rank-1 update)."
   ]
  },
  {
   "cell_type": "code",
   "execution_count": 92,
   "metadata": {},
   "outputs": [],
   "source": [
    "def reorder_rows(matrix, idx1, idx2):\n",
    "    matrix[idx1, :], matrix[idx2, :] = matrix[idx2, :].copy(), matrix[idx1, :].copy()\n",
    "    return matrix\n",
    "\n",
    "r = 550\n",
    "n = 1000\n",
    "delta = 0.01\n",
    "delta_ = 1 + delta\n",
    "\n",
    "# create random matrix A\n",
    "A = np.random.rand(n, r)\n",
    "\n",
    "def dominant_submatrix_search(A):\n",
    "    n, r = A.shape[0], A.shape[1]\n",
    "    max_num_steps = 10000\n",
    "    idx_array =  [i for i in range(n)]\n",
    "    for step in range(max_num_steps):\n",
    "        random_row_idx = np.random.choice(idx_array, r, replace=False)\n",
    "        not_choosen_idx = [i for i in idx_array if i not in random_row_idx]\n",
    "        # reorder rows in A\n",
    "        A_ = np.concatenate((A[random_row_idx, :],A[not_choosen_idx , :] ), axis=0)\n",
    "        A_dom = A[random_row_idx, :]\n",
    "        flag = True\n",
    "        while flag:\n",
    "            B = A_ @ np.linalg.inv(A_dom) #change to efficient approach\n",
    "            b_ij = np.max(np.abs(B))\n",
    "            ij = np.unravel_index(np.argmax(np.abs(B)), B.shape)\n",
    "            if b_ij > delta_:\n",
    "                B = reorder_rows(B, ij[0], ij[1])\n",
    "                A_ = reorder_rows(A_, ij[0], ij[1])\n",
    "                A_dom = A_[:r, :]\n",
    "            else: \n",
    "                flag = False\n",
    "                return A_dom\n"
   ]
  },
  {
   "cell_type": "code",
   "execution_count": 93,
   "metadata": {
    "id": "0DGuKmqLoUAi"
   },
   "outputs": [],
   "source": [
    "# check the convergence of your implementation on random data\n",
    "A_dom = dominant_submatrix_search(np.random.rand(1000, 500))"
   ]
  },
  {
   "cell_type": "markdown",
   "metadata": {
    "id": "zVIzSkvaqwDm"
   },
   "source": [
    "- (10 pts) Propose the method to construct Skeleton approximation using Algorithm 1. The signature of the function is provided below.  Compare your algorithm with previously considered random selection on the matrix $A$.\n",
    "\n",
    "Hint: \n",
    "\n",
    "1) start with random selection of columns \n",
    "\n",
    "2) if you transpose the matrix for which you find rows, then Algorithm 1 will give you update for columns in the initial matrix"
   ]
  },
  {
   "cell_type": "code",
   "execution_count": null,
   "metadata": {
    "id": "AbJRXIJNrbNz"
   },
   "outputs": [],
   "source": [
    "def skeleton(A, r):\n",
    "    # Your code is here\n",
    "    n, r = A.shape[0], A.shape[1]\n",
    "    max_num_steps = 10000\n",
    "    idx_array =  [i for i in range(n)]\n",
    "    col_idx = np.random.choice(idx_array, r, replace=False)\n",
    "    A_dom_cols = A[:, col_idx]\n",
    "#     we could first find best cols and then  for them find best rows, so we could get approximation matrix.\n",
    "    for i in range(10):\n",
    "        A_dom_cols = dominant_submatrix_search(A.T)\n",
    "        A_dom_rows_of_cols = dominant_submatrix_search(A_dom_cols.T)\n",
    "#     A_dom_rows_of_cols rxr matrix approximation of matrix A\n",
    "#    compare them by norm and try to minimize it by more steps of descriebd approach\n",
    "# TODO\n",
    "        \n",
    "    \n",
    "    \n",
    "    \n",
    "    return row_indices, column_indices"
   ]
  },
  {
   "cell_type": "markdown",
   "metadata": {
    "id": "hF8a5rTSs8Ie"
   },
   "source": [
    "- (3 pts) Compare your ```skeleton``` approximation algorithm with SVD and discuss its pros and cons."
   ]
  },
  {
   "cell_type": "code",
   "execution_count": 107,
   "metadata": {
    "id": "kgld0FW_r2xP"
   },
   "outputs": [],
   "source": [
    "# Your solution is here\n"
   ]
  },
  {
   "cell_type": "code",
   "execution_count": null,
   "metadata": {},
   "outputs": [],
   "source": []
  }
 ],
 "metadata": {
  "colab": {
   "collapsed_sections": [],
   "name": "PS2.ipynb",
   "provenance": []
  },
  "kernelspec": {
   "display_name": "Python 3",
   "language": "python",
   "name": "python3"
  },
  "language_info": {
   "codemirror_mode": {
    "name": "ipython",
    "version": 3
   },
   "file_extension": ".py",
   "mimetype": "text/x-python",
   "name": "python",
   "nbconvert_exporter": "python",
   "pygments_lexer": "ipython3",
   "version": "3.8.3"
  }
 },
 "nbformat": 4,
 "nbformat_minor": 1
}
